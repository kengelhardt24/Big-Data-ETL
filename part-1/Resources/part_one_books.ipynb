{
  "nbformat": 4,
  "nbformat_minor": 0,
  "metadata": {
    "colab": {
      "provenance": []
    },
    "kernelspec": {
      "name": "python3",
      "display_name": "Python 3"
    },
    "language_info": {
      "name": "python"
    }
  },
  "cells": [
    {
      "cell_type": "code",
      "execution_count": 1,
      "metadata": {
        "colab": {
          "base_uri": "https://localhost:8080/"
        },
        "id": "uJ9MBQR4bWdX",
        "outputId": "936b57cd-f3b1-49a7-b08a-61fe3f1ecf90"
      },
      "outputs": [
        {
          "output_type": "stream",
          "name": "stdout",
          "text": [
            "Hit:1 https://cloud.r-project.org/bin/linux/ubuntu focal-cran40/ InRelease\n",
            "Ign:2 https://developer.download.nvidia.com/compute/machine-learning/repos/ubuntu2004/x86_64  InRelease\n",
            "Hit:3 https://developer.download.nvidia.com/compute/cuda/repos/ubuntu2004/x86_64  InRelease\n",
            "Hit:4 https://developer.download.nvidia.com/compute/machine-learning/repos/ubuntu2004/x86_64  Release\n",
            "Get:5 http://security.ubuntu.com/ubuntu focal-security InRelease [114 kB]\n",
            "Hit:6 http://archive.ubuntu.com/ubuntu focal InRelease\n",
            "Hit:7 http://ppa.launchpad.net/c2d4u.team/c2d4u4.0+/ubuntu focal InRelease\n",
            "Get:8 http://archive.ubuntu.com/ubuntu focal-updates InRelease [114 kB]\n",
            "Hit:9 http://ppa.launchpad.net/cran/libgit2/ubuntu focal InRelease\n",
            "Get:10 http://archive.ubuntu.com/ubuntu focal-backports InRelease [108 kB]\n",
            "Hit:12 http://ppa.launchpad.net/deadsnakes/ppa/ubuntu focal InRelease\n",
            "Hit:13 http://ppa.launchpad.net/graphics-drivers/ppa/ubuntu focal InRelease\n",
            "Hit:14 http://ppa.launchpad.net/ubuntugis/ppa/ubuntu focal InRelease\n",
            "Fetched 336 kB in 2s (153 kB/s)\n",
            "Reading package lists... Done\n"
          ]
        }
      ],
      "source": [
        "import os\n",
        "# Find the latest version of spark 3.2  from http://www.apache.org/dist/spark/ and enter as the spark version\n",
        "# For example:\n",
        "# spark_version = 'spark-3.2.3'\n",
        "spark_version = 'spark-3.2.3'\n",
        "os.environ['SPARK_VERSION']=spark_version\n",
        "\n",
        "# Install Spark and Java\n",
        "!apt-get update\n",
        "!apt-get install openjdk-8-jdk-headless -qq > /dev/null\n",
        "!wget -q http://www.apache.org/dist/spark/$SPARK_VERSION/$SPARK_VERSION-bin-hadoop3.2.tgz\n",
        "!tar xf $SPARK_VERSION-bin-hadoop3.2.tgz\n",
        "!pip install -q findspark\n",
        "\n",
        "# Set Environment Variables\n",
        "os.environ[\"JAVA_HOME\"] = \"/usr/lib/jvm/java-8-openjdk-amd64\"\n",
        "os.environ[\"SPARK_HOME\"] = f\"/content/{spark_version}-bin-hadoop3.2\"\n",
        "\n",
        "# Start a SparkSession\n",
        "import findspark\n",
        "findspark.init()"
      ]
    },
    {
      "cell_type": "code",
      "source": [
        "!wget https://jdbc.postgresql.org/download/postgresql-42.2.9.jar"
      ],
      "metadata": {
        "colab": {
          "base_uri": "https://localhost:8080/"
        },
        "id": "zj7I92zZb03D",
        "outputId": "ec9ef5d4-685e-47fd-e55f-6ae02251bd57"
      },
      "execution_count": 2,
      "outputs": [
        {
          "output_type": "stream",
          "name": "stdout",
          "text": [
            "--2023-03-04 03:44:29--  https://jdbc.postgresql.org/download/postgresql-42.2.9.jar\n",
            "Resolving jdbc.postgresql.org (jdbc.postgresql.org)... 72.32.157.228, 2001:4800:3e1:1::228\n",
            "Connecting to jdbc.postgresql.org (jdbc.postgresql.org)|72.32.157.228|:443... connected.\n",
            "HTTP request sent, awaiting response... 200 OK\n",
            "Length: 914037 (893K) [application/java-archive]\n",
            "Saving to: ‘postgresql-42.2.9.jar.3’\n",
            "\n",
            "postgresql-42.2.9.j 100%[===================>] 892.61K  4.57MB/s    in 0.2s    \n",
            "\n",
            "2023-03-04 03:44:30 (4.57 MB/s) - ‘postgresql-42.2.9.jar.3’ saved [914037/914037]\n",
            "\n"
          ]
        }
      ]
    },
    {
      "cell_type": "code",
      "source": [
        "from pyspark.sql import SparkSession\n",
        "spark = SparkSession.builder.appName(\"bigdataetl-db\").config(\"spark.driver.extraClassPath\",\"/content/postgresql-42.2.9.jar\").getOrCreate()"
      ],
      "metadata": {
        "id": "V54nUSHQb4jp"
      },
      "execution_count": 3,
      "outputs": []
    },
    {
      "cell_type": "markdown",
      "source": [
        "# **Extract the Amazon Data into Spark DataFrame**"
      ],
      "metadata": {
        "id": "kTLqLaEzjb6t"
      }
    },
    {
      "cell_type": "code",
      "source": [
        "# Read in data from S3 Buckets\n",
        "from pyspark import SparkFiles\n",
        "url = \"https://s3.amazonaws.com/amazon-reviews-pds/tsv/amazon_reviews_us_Books_v1_01.tsv.gz\"\n",
        "spark.sparkContext.addFile(url)\n",
        "\n",
        "books = spark.read.option('header', 'true').csv(SparkFiles.get(\"amazon_reviews_us_Books_v1_01.tsv.gz\"), sep='\\t', header=True, inferSchema=True)\n",
        "books.show()"
      ],
      "metadata": {
        "colab": {
          "base_uri": "https://localhost:8080/"
        },
        "id": "dal9F0Pdb91y",
        "outputId": "3352d3f8-89cd-43f0-8079-faa8eee25b6e"
      },
      "execution_count": 4,
      "outputs": [
        {
          "output_type": "stream",
          "name": "stdout",
          "text": [
            "+-----------+-----------+--------------+----------+--------------+--------------------+----------------+-----------+-------------+-----------+----+-----------------+--------------------+--------------------+-----------+\n",
            "|marketplace|customer_id|     review_id|product_id|product_parent|       product_title|product_category|star_rating|helpful_votes|total_votes|vine|verified_purchase|     review_headline|         review_body|review_date|\n",
            "+-----------+-----------+--------------+----------+--------------+--------------------+----------------+-----------+-------------+-----------+----+-----------------+--------------------+--------------------+-----------+\n",
            "|         US|   22480053|R28HBXXO1UEVJT|0843952016|      34858117|          The Rising|           Books|          5|            0|          0|   N|                N|Great Twist on Zo...|I've known about ...| 2012-05-03|\n",
            "|         US|   44244451| RZKRFS2UUMFFU|031088926X|     676347131|Sticky Faith Teen...|           Books|          5|           15|         15|   N|                Y|Helpful and Pract...|The student curri...| 2012-05-03|\n",
            "|         US|   20357422|R2WAU9MD9K6JQA|0615268102|     763837025|Black Passenger Y...|           Books|          3|            6|          8|   N|                N|                Paul|I found \\\\\"Black ...| 2012-05-03|\n",
            "|         US|   13235208|R36SCTKYTVPZPC|1900869225|     785539232|Direction and Des...|           Books|          5|           10|         11|   N|                Y|Direction and Des...|Sasportas is a br...| 2012-05-03|\n",
            "|         US|   26301786|R10BM6JUOJX27Q|1565129938|      64646125| Until the Next Time|           Books|          3|            0|          0|   Y|                N|       This was Okay|I wanted to love ...| 2012-05-03|\n",
            "|         US|   27780192| RCLZ5OKZNUSY4|146854456X|     270349766| Unfinished Business|           Books|          5|            0|          0|   N|                Y|   Excellent read!!!|What an exciting ...| 2012-05-03|\n",
            "|         US|   13041546|R1S65DJYEI89G4|1118094514|     752141158|The Republican Br...|           Books|          4|            8|         17|   N|                N|A must read for s...|This book is exce...| 2012-05-03|\n",
            "|         US|   51692331|R3KQYBQOLYDETV|0563521147|     729491316|Good Food: 101 Ca...|           Books|          4|            2|          2|   N|                N|   Chocoholic heaven|If you are on a d...| 2012-05-03|\n",
            "|         US|   23108524|R3QV8K7CSU8K2W|0669444421|     261004015|Patterns and Quil...|           Books|          5|            0|          0|   N|                N|Quilt Art Project...|Written by quilt ...| 2012-05-03|\n",
            "|         US|   51692331|R3W5A1WUGO5VQ0|1897784457|     497876045|Practical Food Sm...|           Books|          4|            0|          1|   N|                N|         A good read|Food smoking has ...| 2012-05-03|\n",
            "|         US|   49438248|R20AQCY3FMBVN5|0316738158|     691490916|The Big Love: A N...|           Books|          5|            0|          0|   N|                N|One of my favorites!|This is one of my...| 2012-05-03|\n",
            "|         US|   11818020| R7KY8VL871MVL|0738730440|     544176812|Around the Tarot ...|           Books|          5|           13|         15|   N|                Y|A must for tarot ...|I have been waiti...| 2012-05-03|\n",
            "|         US|   51692331| RHF5E4UOL5LQ3|1902842286|     698916699|Favourite Apple R...|           Books|          5|            2|          2|   N|                N|  A good little book|Jane Austen said ...| 2012-05-03|\n",
            "|         US|   29446920|R1LMUDN5M9G6ZZ|1465399577|     922463098|       Kevin and Tak|           Books|          5|            0|          0|   N|                N|            so great|I felt this was a...| 2012-05-03|\n",
            "|         US|   33284115| RNGA47KD4CEB8|0061934704|     740765152|Opium Nation: Chi...|           Books|          5|            0|          0|   N|                N|Knowing Afghanist...|Fariba Nawa, desc...| 2012-05-03|\n",
            "|         US|   44728718|R33MYHP5RY1139|1432729039|     116349266|        True to Life|           Books|          5|            3|          3|   N|                N|Modern poetry tha...|For many, reading...| 2012-05-03|\n",
            "|         US|   52534548|R18VIM840CEFRP|1621360075|     143884185|The Real Kosher J...|           Books|          1|           16|        105|   N|                N|                 SLH|I'm sorry, but ca...| 2012-05-03|\n",
            "|         US|   37836302| RQOZBXX7M0U6H|097723732X|     106641033|Idioms Go To The ...|           Books|          5|            0|          0|   N|                N|         Great book!|The (slightly) ea...| 2012-05-03|\n",
            "|         US|   38588903|R3SH84TAORQP2T|0983945209|     377432437|Elsie -  Adventur...|           Books|          5|            3|          3|   N|                N|      Terrific Book!|By Den Adler<br /...| 2012-05-03|\n",
            "|         US|   49148452| RL1OHWOHPM7RO|1419701630|     307676830|Chuck Close: Face...|           Books|          5|            8|          9|   N|                N|  Close and personal|The autobiography...| 2012-05-03|\n",
            "+-----------+-----------+--------------+----------+--------------+--------------------+----------------+-----------+-------------+-----------+----+-----------------+--------------------+--------------------+-----------+\n",
            "only showing top 20 rows\n",
            "\n"
          ]
        }
      ]
    },
    {
      "cell_type": "code",
      "source": [
        "books.count()"
      ],
      "metadata": {
        "colab": {
          "base_uri": "https://localhost:8080/"
        },
        "id": "Ztvs6tCMiCld",
        "outputId": "24be800b-e2c1-474a-f446-246db0ebbc5e"
      },
      "execution_count": 5,
      "outputs": [
        {
          "output_type": "execute_result",
          "data": {
            "text/plain": [
              "6106719"
            ]
          },
          "metadata": {},
          "execution_count": 5
        }
      ]
    },
    {
      "cell_type": "code",
      "source": [
        "# Drop null values\n",
        "books = books.dropna()\n",
        "print(books.count())"
      ],
      "metadata": {
        "colab": {
          "base_uri": "https://localhost:8080/"
        },
        "id": "qcWWL8vmPlUy",
        "outputId": "23b0aec0-4420-44b8-a81c-5a8ae63bf302"
      },
      "execution_count": 6,
      "outputs": [
        {
          "output_type": "stream",
          "name": "stdout",
          "text": [
            "6105983\n"
          ]
        }
      ]
    },
    {
      "cell_type": "markdown",
      "source": [
        "# **Transform the Data**"
      ],
      "metadata": {
        "id": "YRVTRtogm8cD"
      }
    },
    {
      "cell_type": "code",
      "source": [
        "# Print schema\n",
        "books.printSchema()"
      ],
      "metadata": {
        "colab": {
          "base_uri": "https://localhost:8080/"
        },
        "id": "0xM5ESJo5hTU",
        "outputId": "584ddd66-c5db-4f42-8373-732d0f87a661"
      },
      "execution_count": 7,
      "outputs": [
        {
          "output_type": "stream",
          "name": "stdout",
          "text": [
            "root\n",
            " |-- marketplace: string (nullable = true)\n",
            " |-- customer_id: integer (nullable = true)\n",
            " |-- review_id: string (nullable = true)\n",
            " |-- product_id: string (nullable = true)\n",
            " |-- product_parent: integer (nullable = true)\n",
            " |-- product_title: string (nullable = true)\n",
            " |-- product_category: string (nullable = true)\n",
            " |-- star_rating: integer (nullable = true)\n",
            " |-- helpful_votes: integer (nullable = true)\n",
            " |-- total_votes: integer (nullable = true)\n",
            " |-- vine: string (nullable = true)\n",
            " |-- verified_purchase: string (nullable = true)\n",
            " |-- review_headline: string (nullable = true)\n",
            " |-- review_body: string (nullable = true)\n",
            " |-- review_date: string (nullable = true)\n",
            "\n"
          ]
        }
      ]
    },
    {
      "cell_type": "code",
      "source": [
        "# Changing datatypes\n",
        "# Source Link: https://stackoverflow.com/questions/32284620/how-to-change-a-dataframe-column-from-string-type-to-double-type-in-pyspark\n",
        "\n",
        "from pyspark.sql.types import TimestampType, IntegerType\n",
        "\n",
        "books = books.withColumn(\"customer_id\", books[\"customer_id\"].cast(IntegerType()))\\\n",
        "       .withColumn(\"product_parent\", books[\"product_parent\"].cast(IntegerType()))\\\n",
        "       .withColumn(\"review_date\", books[\"review_date\"].cast(TimestampType()))\\\n",
        "       .withColumn(\"star_rating\", books[\"star_rating\"].cast(IntegerType()))\\\n",
        "       .withColumn(\"helpful_votes\", books[\"helpful_votes\"].cast(IntegerType()))\\\n",
        "      .withColumn(\"total_votes\", books[\"total_votes\"].cast(IntegerType()))\\\n",
        "\n",
        "# Print schema\n",
        "books.printSchema()"
      ],
      "metadata": {
        "colab": {
          "base_uri": "https://localhost:8080/"
        },
        "id": "Zic3mDxy5htN",
        "outputId": "65717290-79dc-4ba5-ed7b-141a9540adf0"
      },
      "execution_count": 8,
      "outputs": [
        {
          "output_type": "stream",
          "name": "stdout",
          "text": [
            "root\n",
            " |-- marketplace: string (nullable = true)\n",
            " |-- customer_id: integer (nullable = true)\n",
            " |-- review_id: string (nullable = true)\n",
            " |-- product_id: string (nullable = true)\n",
            " |-- product_parent: integer (nullable = true)\n",
            " |-- product_title: string (nullable = true)\n",
            " |-- product_category: string (nullable = true)\n",
            " |-- star_rating: integer (nullable = true)\n",
            " |-- helpful_votes: integer (nullable = true)\n",
            " |-- total_votes: integer (nullable = true)\n",
            " |-- vine: string (nullable = true)\n",
            " |-- verified_purchase: string (nullable = true)\n",
            " |-- review_headline: string (nullable = true)\n",
            " |-- review_body: string (nullable = true)\n",
            " |-- review_date: timestamp (nullable = true)\n",
            "\n"
          ]
        }
      ]
    },
    {
      "cell_type": "markdown",
      "source": [
        "### **Create Review ID Table**"
      ],
      "metadata": {
        "id": "HVug9CzjlwR8"
      }
    },
    {
      "cell_type": "code",
      "source": [
        "review_id_df = books.select([\"review_id\",\"customer_id\",\"product_id\", \"product_parent\",\"review_date\"])\n",
        "review_id_df.show()"
      ],
      "metadata": {
        "colab": {
          "base_uri": "https://localhost:8080/"
        },
        "id": "9bhSH-VykKZ1",
        "outputId": "f27e4051-53ab-4a57-8ce8-b21a0ea6ce5c"
      },
      "execution_count": 9,
      "outputs": [
        {
          "output_type": "stream",
          "name": "stdout",
          "text": [
            "+--------------+-----------+----------+--------------+-------------------+\n",
            "|     review_id|customer_id|product_id|product_parent|        review_date|\n",
            "+--------------+-----------+----------+--------------+-------------------+\n",
            "|R28HBXXO1UEVJT|   22480053|0843952016|      34858117|2012-05-03 00:00:00|\n",
            "| RZKRFS2UUMFFU|   44244451|031088926X|     676347131|2012-05-03 00:00:00|\n",
            "|R2WAU9MD9K6JQA|   20357422|0615268102|     763837025|2012-05-03 00:00:00|\n",
            "|R36SCTKYTVPZPC|   13235208|1900869225|     785539232|2012-05-03 00:00:00|\n",
            "|R10BM6JUOJX27Q|   26301786|1565129938|      64646125|2012-05-03 00:00:00|\n",
            "| RCLZ5OKZNUSY4|   27780192|146854456X|     270349766|2012-05-03 00:00:00|\n",
            "|R1S65DJYEI89G4|   13041546|1118094514|     752141158|2012-05-03 00:00:00|\n",
            "|R3KQYBQOLYDETV|   51692331|0563521147|     729491316|2012-05-03 00:00:00|\n",
            "|R3QV8K7CSU8K2W|   23108524|0669444421|     261004015|2012-05-03 00:00:00|\n",
            "|R3W5A1WUGO5VQ0|   51692331|1897784457|     497876045|2012-05-03 00:00:00|\n",
            "|R20AQCY3FMBVN5|   49438248|0316738158|     691490916|2012-05-03 00:00:00|\n",
            "| R7KY8VL871MVL|   11818020|0738730440|     544176812|2012-05-03 00:00:00|\n",
            "| RHF5E4UOL5LQ3|   51692331|1902842286|     698916699|2012-05-03 00:00:00|\n",
            "|R1LMUDN5M9G6ZZ|   29446920|1465399577|     922463098|2012-05-03 00:00:00|\n",
            "| RNGA47KD4CEB8|   33284115|0061934704|     740765152|2012-05-03 00:00:00|\n",
            "|R33MYHP5RY1139|   44728718|1432729039|     116349266|2012-05-03 00:00:00|\n",
            "|R18VIM840CEFRP|   52534548|1621360075|     143884185|2012-05-03 00:00:00|\n",
            "| RQOZBXX7M0U6H|   37836302|097723732X|     106641033|2012-05-03 00:00:00|\n",
            "|R3SH84TAORQP2T|   38588903|0983945209|     377432437|2012-05-03 00:00:00|\n",
            "| RL1OHWOHPM7RO|   49148452|1419701630|     307676830|2012-05-03 00:00:00|\n",
            "+--------------+-----------+----------+--------------+-------------------+\n",
            "only showing top 20 rows\n",
            "\n"
          ]
        }
      ]
    },
    {
      "cell_type": "markdown",
      "source": [
        "### **Create Products Table**"
      ],
      "metadata": {
        "id": "vpSk5WdYl7us"
      }
    },
    {
      "cell_type": "code",
      "source": [
        "products_df = books.select([\"product_id\", \"product_title\"]).dropDuplicates([\"product_id\", \"product_title\"])\n",
        "products_df.show()"
      ],
      "metadata": {
        "colab": {
          "base_uri": "https://localhost:8080/"
        },
        "id": "sUZKywsJkuaz",
        "outputId": "80c9b492-493d-421c-8c9e-906a325d9547"
      },
      "execution_count": 10,
      "outputs": [
        {
          "output_type": "stream",
          "name": "stdout",
          "text": [
            "+----------+--------------------+\n",
            "|product_id|       product_title|\n",
            "+----------+--------------------+\n",
            "|1419701630|Chuck Close: Face...|\n",
            "|0451216954|Dark Lover (Black...|\n",
            "|0552142395|My Feudal Lord: A...|\n",
            "|1931514941|   Love Hina, Vol. 1|\n",
            "|0615462219|The Great Pain De...|\n",
            "|0805087605|What's Inside You...|\n",
            "|1439197334|Far from Here: A ...|\n",
            "|1413748260|       Plasma Dreams|\n",
            "|1613469845|           Bolt Clan|\n",
            "|B005IUSVS0|       If I Were You|\n",
            "|0486451550|Architectura Nava...|\n",
            "|0312426267|Golden Boy: Memor...|\n",
            "|0425247414|Murder on Fifth A...|\n",
            "|0375722203|Random House Webs...|\n",
            "|1615390588|Colodin Project, ...|\n",
            "|047023847X|HTML, XHTML and C...|\n",
            "|1892785390|Continuing Care S...|\n",
            "|1467996149|Far Away in the S...|\n",
            "|0307886948|Jeannie Out of th...|\n",
            "|159038668X|The Kingdom and t...|\n",
            "+----------+--------------------+\n",
            "only showing top 20 rows\n",
            "\n"
          ]
        }
      ]
    },
    {
      "cell_type": "markdown",
      "source": [
        "### **Create Customers Table**"
      ],
      "metadata": {
        "id": "peivoDd0mHrO"
      }
    },
    {
      "cell_type": "code",
      "source": [
        "from pyspark.sql.functions import desc\n",
        "\n",
        "customers_df = books.groupby(\"customer_id\").agg({\"customer_id\" : \"count\"})\n",
        "customers_df = customers_df.orderBy(desc(\"count(customer_id)\"))\n",
        "customers_df = customers_df.withColumnRenamed(\"count(customer_id)\", \"customer_count\")\n",
        "customers_df.show()"
      ],
      "metadata": {
        "colab": {
          "base_uri": "https://localhost:8080/"
        },
        "id": "LZiLqCdXlSUc",
        "outputId": "d0599c12-7856-4e2d-f85b-6b12f1a7093a"
      },
      "execution_count": 11,
      "outputs": [
        {
          "output_type": "stream",
          "name": "stdout",
          "text": [
            "+-----------+--------------+\n",
            "|customer_id|customer_count|\n",
            "+-----------+--------------+\n",
            "|   50122160|         36228|\n",
            "|   50732546|         16897|\n",
            "|   43530996|          4405|\n",
            "|   14410556|          4363|\n",
            "|   14720400|          3453|\n",
            "|   44731853|          3430|\n",
            "|   36642996|          3374|\n",
            "|   52004451|          2725|\n",
            "|   45041039|          2508|\n",
            "|   13161706|          2475|\n",
            "|   20595117|          2441|\n",
            "|   52496677|          2263|\n",
            "|   50776149|          2252|\n",
            "|   38491967|          2162|\n",
            "|   52637822|          2159|\n",
            "|   45273033|          2097|\n",
            "|   50068216|          2023|\n",
            "|   34407806|          1858|\n",
            "|   50881246|          1826|\n",
            "|   11488357|          1820|\n",
            "+-----------+--------------+\n",
            "only showing top 20 rows\n",
            "\n"
          ]
        }
      ]
    },
    {
      "cell_type": "markdown",
      "source": [
        "### **Create Vine Table**"
      ],
      "metadata": {
        "id": "s27tmlgimOVT"
      }
    },
    {
      "cell_type": "code",
      "source": [
        "vine_df = books.select([\"review_id\", \"star_rating\", \"helpful_votes\", \"total_votes\", \"vine\"])\n",
        "vine_df.show()"
      ],
      "metadata": {
        "colab": {
          "base_uri": "https://localhost:8080/"
        },
        "id": "5mxoZ-jgmVub",
        "outputId": "8ddca211-8a20-4914-9102-19238058e5c4"
      },
      "execution_count": 12,
      "outputs": [
        {
          "output_type": "stream",
          "name": "stdout",
          "text": [
            "+--------------+-----------+-------------+-----------+----+\n",
            "|     review_id|star_rating|helpful_votes|total_votes|vine|\n",
            "+--------------+-----------+-------------+-----------+----+\n",
            "|R28HBXXO1UEVJT|          5|            0|          0|   N|\n",
            "| RZKRFS2UUMFFU|          5|           15|         15|   N|\n",
            "|R2WAU9MD9K6JQA|          3|            6|          8|   N|\n",
            "|R36SCTKYTVPZPC|          5|           10|         11|   N|\n",
            "|R10BM6JUOJX27Q|          3|            0|          0|   Y|\n",
            "| RCLZ5OKZNUSY4|          5|            0|          0|   N|\n",
            "|R1S65DJYEI89G4|          4|            8|         17|   N|\n",
            "|R3KQYBQOLYDETV|          4|            2|          2|   N|\n",
            "|R3QV8K7CSU8K2W|          5|            0|          0|   N|\n",
            "|R3W5A1WUGO5VQ0|          4|            0|          1|   N|\n",
            "|R20AQCY3FMBVN5|          5|            0|          0|   N|\n",
            "| R7KY8VL871MVL|          5|           13|         15|   N|\n",
            "| RHF5E4UOL5LQ3|          5|            2|          2|   N|\n",
            "|R1LMUDN5M9G6ZZ|          5|            0|          0|   N|\n",
            "| RNGA47KD4CEB8|          5|            0|          0|   N|\n",
            "|R33MYHP5RY1139|          5|            3|          3|   N|\n",
            "|R18VIM840CEFRP|          1|           16|        105|   N|\n",
            "| RQOZBXX7M0U6H|          5|            0|          0|   N|\n",
            "|R3SH84TAORQP2T|          5|            3|          3|   N|\n",
            "| RL1OHWOHPM7RO|          5|            8|          9|   N|\n",
            "+--------------+-----------+-------------+-----------+----+\n",
            "only showing top 20 rows\n",
            "\n"
          ]
        }
      ]
    },
    {
      "cell_type": "markdown",
      "source": [
        "## **Load the DataFrame To RDS**"
      ],
      "metadata": {
        "id": "e-2XFQVFnM1D"
      }
    },
    {
      "cell_type": "code",
      "source": [
        "mode = \"append\"\n",
        "jdbc_url=\"jdbc:postgresql://bigdataetl-db.claqzv8ic3l5.us-east-1.rds.amazonaws.com:5432/big_data_etl_db\"\n",
        "config = {\"user\":\"root\", \"password\": \"postgres\", \"driver\":\"org.postgresql.Driver\"}"
      ],
      "metadata": {
        "id": "x6sUBXHlnL1V"
      },
      "execution_count": 13,
      "outputs": []
    },
    {
      "cell_type": "code",
      "source": [
        "# Write review_id_df to table in RDS\n",
        "review_id_df.write.jdbc(url=jdbc_url, table='review_id_table', mode=mode, properties=config)"
      ],
      "metadata": {
        "id": "osLRmGAbrRAi"
      },
      "execution_count": 14,
      "outputs": []
    },
    {
      "cell_type": "code",
      "source": [
        "# Write products_df to table in RDS\n",
        "products_df.write.jdbc(url=jdbc_url, table='products', mode=mode, properties=config)"
      ],
      "metadata": {
        "id": "rh8maG0crT-Z"
      },
      "execution_count": 15,
      "outputs": []
    },
    {
      "cell_type": "code",
      "source": [
        "# Write customers_df to table in RDS\n",
        "customers_df.write.jdbc(url=jdbc_url, table='customers', mode=mode, properties=config)"
      ],
      "metadata": {
        "id": "jEXKV5KvrV5K"
      },
      "execution_count": 16,
      "outputs": []
    },
    {
      "cell_type": "code",
      "source": [
        "# Write vine_df to table in RDS\n",
        "vine_df.write.jdbc(url=jdbc_url, table='vine_table', mode=mode, properties=config)"
      ],
      "metadata": {
        "id": "DeO2mnGlrXsD"
      },
      "execution_count": 17,
      "outputs": []
    }
  ]
}